{
 "cells": [
  {
   "cell_type": "code",
   "execution_count": null,
   "metadata": {
    "collapsed": true
   },
   "outputs": [],
   "source": [
    "import numpy as np\n",
    "import matplotlib.pyplot as plt\n",
    "import matplotlib.animation as animation"
   ]
  },
  {
   "cell_type": "markdown",
   "metadata": {},
   "source": [
    "# Ising Spin Model\n",
    "The Ising Spin Model is a model system where a n-dimensional grid of spins orient depending on thier energy and the system temperature. There are several interesting properties of the system and it serves as a good prototype for understanding other many-body physics problems. The energy of a single spin in the lattice is determined by it's orientation relative to the four nearest neighbors. Specifically, one can compute the energy of the $i$-th spin ($s_i$) as:\n",
    "$$E_{ij} = -1\\sum_{<i,j>}s_i s_j$$\n",
    "where the sum is taken over the nearest neighbors of spin $s_i$, namely the spin in the four directions: up, down, left, right.\n",
    "\n",
    "For example, a spin-up site surrounded by three spin-down sites and one spin-up site has an energy of:\n",
    "$-1 \\cdot [(+1 \\cdot -1) + (+1 \\cdot -1) + (+1 \\cdot -1) + (+1 \\cdot +1)] = +2$\n",
    "\n",
    "\n",
    "\n",
    "### Simulation\n",
    "We model the steady state of the system by starting in a random configuration (spins either up or down, +1/-1) and then picking one spin at random, and flipping it according to the following criteria:\n",
    "\n",
    " - If flipping the spin **reduces** it's energy, then we always flip the spin.\n",
    "\n",
    " - If flipping the spin **increases** it's energy, then we flip the spin according to a probability that depends on the temperature of the system:\n",
    " \n",
    "Temperature represents internal kinetic energy so this energy can be responsible for the random spin-flipping that could lead to a non-minimal energy configuration. The probability of such a spin flip occuring is given by the Boltzmann factor:\n",
    "$$e^{-\\frac{E_2 - E_1}{kT}}.$$\n",
    "In our case, the original (unflipped) energy is $E_1$ and the new (if flipped) energy is $E_2$. Using this we can allow such flips by comparing this probability to a random number. Notice that this value ranges from 0 (if the energy difference is large) to 1 (if the energy difference is zero). That is the same range as our random number generators so testing to flip a spin is simply:\n",
    "\n",
    "Flip if the probability based on the energies and temperatures is greater than a random number between [0,1)."
   ]
  },
  {
   "cell_type": "markdown",
   "metadata": {},
   "source": [
    "Write functions to:\n",
    "1. fill a 2D array with random \"spins\" (+1 or -1)\n",
    "2. compute the energy of the spin at a site\n",
    "3. update the spins in the system, by randomly choosing sites, and deciding whether they should be flipped\n",
    "4. Visualize each step"
   ]
  },
  {
   "cell_type": "code",
   "execution_count": null,
   "metadata": {
    "collapsed": true
   },
   "outputs": [],
   "source": []
  }
 ],
 "metadata": {
  "kernelspec": {
   "display_name": "Python 3",
   "language": "python",
   "name": "python3"
  },
  "language_info": {
   "codemirror_mode": {
    "name": "ipython",
    "version": 3
   },
   "file_extension": ".py",
   "mimetype": "text/x-python",
   "name": "python",
   "nbconvert_exporter": "python",
   "pygments_lexer": "ipython3",
   "version": "3.5.1"
  }
 },
 "nbformat": 4,
 "nbformat_minor": 0
}
