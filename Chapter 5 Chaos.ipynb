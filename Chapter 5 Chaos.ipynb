{
 "cells": [
  {
   "cell_type": "markdown",
   "metadata": {},
   "source": [
    "## Chaos\n",
    "Notebook to explore Ch. 5"
   ]
  },
  {
   "cell_type": "code",
   "execution_count": 15,
   "metadata": {
    "collapsed": false
   },
   "outputs": [
    {
     "name": "stdout",
     "output_type": "stream",
     "text": [
      "Populating the interactive namespace from numpy and matplotlib\n"
     ]
    }
   ],
   "source": [
    "# import pylab, set graph outputs to separate window, so we can use zoom tools\n",
    "%pylab osx\n",
    "from scipy.integrate import odeint"
   ]
  },
  {
   "cell_type": "code",
   "execution_count": 87,
   "metadata": {
    "collapsed": true
   },
   "outputs": [],
   "source": [
    "def DrivenDampedPendulum(state, timep, betap, w_0, gammap, wd):\n",
    "    \"\"\"\n",
    "    Function to return derivatives for driven, damped harmonic oscillator.\n",
    "    theta_dot_dot = 2*beta*theta_dot - (w_0)**2 sin(theta) + gamma*cos(wd*t)\n",
    "    calling routine must pass w_0, beta, gamma, and drive frequency wd\n",
    "    \"\"\"\n",
    "    xdot=state[1]\n",
    "#    vdot=-((w_0)**2)*sin(state[0])-2*(betap)*state[1]+(gammap)*cos(wd*time)\n",
    "\n",
    "    vdot=-((w_0)**2)*sin(state[0])-2*(betap)*state[1]+(gammap)*(w_0**2)*cos(wd*timep)\n",
    "\n",
    "    return array([xdot,vdot])"
   ]
  },
  {
   "cell_type": "code",
   "execution_count": 111,
   "metadata": {
    "collapsed": false
   },
   "outputs": [],
   "source": [
    "# Explore behavior of DDP, driven damped pendulum\n",
    "\n",
    "wd=2*pi  # set drive freq to 2*pi, so that time is in units of drive period T\n",
    "w_0=1.5*wd  # set natural freq to 1.5 times drive freq, so that drive is close (but lower than) resonance\n",
    "beta = w_0/4\n",
    "theta_0=0.0  # initial angle is zero\n",
    "v_theta_0 = 0.0  # initial velocity is zero\n",
    "gamma=1.073\n",
    "\n",
    "t_max=100\n",
    "N=10000\n",
    "# fill time array\n",
    "time=linspace(0,t_max,N)\n",
    "\n",
    "# call odeint\n",
    "solution=odeint(DrivenDampedPendulum, [theta_0,v_theta_0], time, args=(beta, w_0, gamma, wd))\n",
    "# print(solution)\n",
    "\n",
    "figure()\n",
    "#plot(time,solution[:,0]/(2*pi),\"k-\")\n",
    "plot(time,solution[:,0]/(2*pi),\"k-\", time, 2.5*sin(wd*time-1*pi/16))\n",
    "xlabel(\"time (drive periods)\")\n",
    "ylabel(\"angle\")\n",
    "xlim(0,15)\n",
    "#xlim(5,6)\n",
    "#xlim(40,50)\n",
    "# Change tick interval to pi/2\n",
    "ax1=gca()\n",
    "#start, end = ax1.get_ylim()\n",
    "#ax1.set_yticks(np.arange(start, end, pi/2))"
   ]
  },
  {
   "cell_type": "code",
   "execution_count": 81,
   "metadata": {
    "collapsed": false
   },
   "outputs": [
    {
     "ename": "NameError",
     "evalue": "name 'close_figure' is not defined",
     "output_type": "error",
     "traceback": [
      "\u001b[0;31m---------------------------------------------------------------------------\u001b[0m",
      "\u001b[0;31mNameError\u001b[0m                                 Traceback (most recent call last)",
      "\u001b[0;32m<ipython-input-81-937e1768f253>\u001b[0m in \u001b[0;36m<module>\u001b[0;34m()\u001b[0m\n\u001b[0;32m----> 1\u001b[0;31m \u001b[0mclose_figure\u001b[0m\u001b[0;34m(\u001b[0m\u001b[0;34m)\u001b[0m\u001b[0;34m\u001b[0m\u001b[0m\n\u001b[0m",
      "\u001b[0;31mNameError\u001b[0m: name 'close_figure' is not defined"
     ]
    }
   ],
   "source": [
    "\n"
   ]
  },
  {
   "cell_type": "code",
   "execution_count": null,
   "metadata": {
    "collapsed": true
   },
   "outputs": [],
   "source": []
  }
 ],
 "metadata": {
  "kernelspec": {
   "display_name": "Python 3",
   "language": "python",
   "name": "python3"
  },
  "language_info": {
   "codemirror_mode": {
    "name": "ipython",
    "version": 3
   },
   "file_extension": ".py",
   "mimetype": "text/x-python",
   "name": "python",
   "nbconvert_exporter": "python",
   "pygments_lexer": "ipython3",
   "version": "3.5.1"
  }
 },
 "nbformat": 4,
 "nbformat_minor": 0
}
