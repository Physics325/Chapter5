{
 "cells": [
  {
   "cell_type": "markdown",
   "metadata": {},
   "source": [
    "## Chaos\n",
    "Notebook to explore Ch. 5\n",
    "\n",
    "We are investigating the behavior or the driven, damped pendulum (DPP), which is a non-linear DE.\n",
    "\n",
    "First, investigate how the behavior changes as drive strength increased.\n",
    "\n",
    "1. start wd=2*pi, w_0=1.5*wd, beta=w_0/4, and theta_0 and v_theta_0 = 0.\n",
    "\n",
    "2. Plot theta for gamma=0.2 for t from 0 to 10.  What's the period of the motion? Is this related to wd or w_0 or something else? What's the amplitude?  Sketch a picture on the whiteboard showing the range of motion of the pendulum.\n",
    "\n",
    "3. Plot theta for gamma=0.9 for t from 0 to 10.  What's the period of the motion? Is this related to wd or w_0 or something else? What's the amplitude?  Sketch a picture on the whiteboard showing the range of motion of the pendulum.  To see that the behavior is actualy different now, focus on one oscillation after t=5.  Add to the plot a proper sin function.  Adjust the amplitude so it matches that of the pendulum.  What to you conclude?\n",
    "\n",
    "4. Plot theta for gamma=1.06 for t from 0 to 15. Sketch a picture on the whiteboard showing the range of motion of the pendulum and describe its motion for t= 0 to 5.\n",
    "\n",
    "5. A useful technique for checking if a motion is periodic is to get the value of theta for a series of times separated by the period.  Create a funciton to do this.  It should take as inputs the theta data and the period and it should return an array of theta values.  Use your function to test the data for gamma=1.06 for times greater than 30.  What do you find?\n",
    "\n",
    "6. Plot theta for gamma=1.073 for t from 0 to 60. Interpret the motion of the pendulum.  Use the zoom tools to zoom in bottom of the oscillatory part of your graph.  Focus on times after t=30.  Describe what you see.\n",
    "\n",
    "7. Use your period checking function to test the values of theta for gamma=1.073, for t>30.  What are these values telling you about the graph?\n",
    "\n",
    "8. Plot theta for gamma=1.077 for t from 0 to 60. Interpret the motion of the pendulum.  Use the zoom tools to zoom in bottom of the oscillatory part of your graph.  Focus on times after t=30.  Describe what you see.\n",
    "\n",
    "9. Use your period checking function to test the values of theta for gamma=1.077, for t>30.  What are these values telling you about the graph?\n",
    "\n",
    "10. Now we want to see what happens if we change the initial conditions, without changing anything else.  Still using γ=1.077, set the initial conditions so that theta_0=-pi/2 and v_theta_0=0.  Plot both solutions on the same graph.  Make sure both plots are for γ=1.077.\n",
    "11. Using the new initial conditions, run through the period-doubling cascade using gamma=1.06, 1.078, 1.081, 1.0826.  Finally, try γ=1.105.  Convince yourself that this graph doesn’t repeat exactly.  This is an example of chaos.\n",
    "12. Go back to conditions for (1) and plot velocity vs angle.  This is called a phase space plot.  Compare to your angle vs. t graph.  What is it telling you?\n"
   ]
  },
  {
   "cell_type": "code",
   "execution_count": 145,
   "metadata": {
    "collapsed": true
   },
   "outputs": [],
   "source": [
    "from IPython.display import Audio\n",
    "sound_file = '/Applications/Enchanting/FrontEnd/Media/Sounds/Effects/Rattle.wav'"
   ]
  },
  {
   "cell_type": "code",
   "execution_count": 2,
   "metadata": {
    "collapsed": false
   },
   "outputs": [
    {
     "name": "stdout",
     "output_type": "stream",
     "text": [
      "Populating the interactive namespace from numpy and matplotlib\n"
     ]
    }
   ],
   "source": [
    "# import pylab, set graph outputs to separate window, so we can use zoom tools\n",
    "# On PC's, this is probably enough:\n",
    "# %pylab\n",
    "# On Macs, you may need to do this:\n",
    "%pylab inline\n",
    "from scipy.integrate import odeint"
   ]
  },
  {
   "cell_type": "code",
   "execution_count": 3,
   "metadata": {
    "collapsed": true
   },
   "outputs": [],
   "source": [
    "def DrivenDampedPendulum(state, timep, betap, w_0, gammap, wd):\n",
    "    \"\"\"\n",
    "    Function to return derivatives for driven, damped harmonic oscillator.\n",
    "    theta_dot_dot = 2*beta*theta_dot - (w_0)**2 sin(theta) + gamma*cos(wd*t)\n",
    "    calling routine must pass w_0, beta, gamma, and drive frequency wd\n",
    "    \"\"\"\n",
    "    xdot=state[1]\n",
    "#    vdot=-((w_0)**2)*sin(state[0])-2*(betap)*state[1]+(gammap)*cos(wd*time)\n",
    "\n",
    "    vdot=-((w_0)**2)*sin(state[0])-2*(betap)*state[1]+(gammap)*(w_0**2)*cos(wd*timep)\n",
    "\n",
    "    return array([xdot,vdot])"
   ]
  },
  {
   "cell_type": "code",
   "execution_count": 4,
   "metadata": {
    "collapsed": false
   },
   "outputs": [
    {
     "data": {
      "text/plain": [
       "(0, 15)"
      ]
     },
     "execution_count": 4,
     "metadata": {},
     "output_type": "execute_result"
    },
    {
     "data": {
      "image/png": "[encoded data removed]",
      "text/plain": [
       "<matplotlib.figure.Figure at 0x10a98a128>"
      ]
     },
     "metadata": {},
     "output_type": "display_data"
    }
   ],
   "source": [
    "# Explore behavior of DDP, driven damped pendulum\n",
    "\n",
    "wd=2*pi  # set drive freq to 2*pi, so that time is in units of drive period T\n",
    "w_0=1.5*wd  # set natural freq to 1.5 times drive freq, so that drive is close (but lower than) resonance\n",
    "beta = w_0/4\n",
    "theta_0=0.0  # initial angle is zero\n",
    "v_theta_0 = 0.0  # initial velocity is zero\n",
    "gamma=0.2\n",
    "\n",
    "t_max=100\n",
    "N=10000\n",
    "# fill time array\n",
    "time=linspace(0,t_max,N)\n",
    "\n",
    "# call odeint\n",
    "solution=odeint(DrivenDampedPendulum, [theta_0,v_theta_0], time, args=(beta, w_0, gamma, wd))\n",
    "# print(solution)\n",
    "\n",
    "figure()\n",
    "plot(time,solution[:,0]/(2*pi),\"k-\")\n",
    "#plot(time,solution[:,0]/(2*pi),\"k-\", time, 2.5*sin(wd*time-1*pi/16))\n",
    "xlabel(\"time (drive periods)\")\n",
    "ylabel(\"angle\")\n",
    "xlim(0,15)\n",
    "#ylim(-1,1)\n",
    "#xlim(5,6)\n",
    "#xlim(40,50)\n",
    "# Change tick interval to pi/2\n",
    "#ax1=gca()\n",
    "#start, end = ax1.get_ylim()\n",
    "#ax1.set_yticks(np.arange(start, end, pi/2))"
   ]
  },
  {
   "cell_type": "code",
   "execution_count": 5,
   "metadata": {
    "collapsed": true
   },
   "outputs": [],
   "source": [
    "# function to return text formating for tick label\n",
    "# in units of of pi_fraction*pi.  Seems to work for pi_fraction both less than and greater than 1 \n",
    "# (eg. 1/4pi or 2pi)\n",
    "# requires matplotlib.ticker\n",
    "\n",
    "\n",
    "\n",
    "def fractions_of_pi(x,pos):\n",
    "    if np.isclose(x/(pi_fraction*pi)%(1./(pi_fraction)),0.):\n",
    "        # x is an integer, so just return that\n",
    "        if x==0:\n",
    "#            print(\"x is zero!!!\")\n",
    "            return 0\n",
    "        else:\n",
    "#            print(\"x is an integer !!!!\")\n",
    "            return r'${:.0f} \\pi$'.format(x/(pi))\n",
    "    else:\n",
    "        # this returns a latex formatted fraction\n",
    "        # Could check if fraction can be reduced\n",
    "        # if (1./pi_fraction)%(x/(pi_fraction*pi)) is close to zero, then it can\n",
    "        return '$\\\\frac{{{:2.0f}}}{{{:2.0f}}} \\pi$'.format(x/(pi_fraction*pi),1./pi_fraction)\n",
    "        # if you don't want to use latex, you could use this commented\n",
    "        # line, which formats the fraction as \"1/13\"\n",
    "        ### return '{:2.0f}/{:2.0f}'.format(x/step,1./step)\n"
   ]
  },
  {
   "cell_type": "code",
   "execution_count": 6,
   "metadata": {
    "collapsed": true
   },
   "outputs": [],
   "source": [
    "def poincare(data,periodstep):\n",
    "    return data[0::periodstep]"
   ]
  },
  {
   "cell_type": "code",
   "execution_count": 7,
   "metadata": {
    "collapsed": false
   },
   "outputs": [],
   "source": [
    "def wrap(data):\n",
    "    return ( data + pi) % (2 * pi ) - pi"
   ]
  },
  {
   "cell_type": "code",
   "execution_count": 146,
   "metadata": {
    "collapsed": false,
    "scrolled": true
   },
   "outputs": [
    {
     "name": "stdout",
     "output_type": "stream",
     "text": [
      "DONE\n"
     ]
    },
    {
     "data": {
      "text/html": [
       "\n",
       "                <audio controls=\"controls\" autoplay=\"autoplay\">\n",
       "                    <source src=\"/Applications/Enchanting/FrontEnd/Media/Sounds/Effects/Rattle.wav\" type=\"audio/x-wav\" />\n",
       "                    Your browser does not support the audio element.\n",
       "                </audio>\n",
       "              "
      ],
      "text/plain": [
       "<IPython.lib.display.Audio object>"
      ]
     },
     "execution_count": 146,
     "metadata": {},
     "output_type": "execute_result"
    }
   ],
   "source": [
    "#figure()\n",
    "\n",
    "points = []\n",
    "gammalist = linspace(0.95,1.1,50)\n",
    "for gamma in gammalist:\n",
    "#for gamma in [0.7]:\n",
    "    wd=2*pi  # set drive freq to 2*pi, so that time is in units of drive period T\n",
    "    w_0=1.5*wd  # set natural freq to 1.5 times drive freq, so that drive is close (but lower than) resonance\n",
    "    beta = w_0/4\n",
    "    #theta_0=-pi/2  # initial angle is neg pi/2\n",
    "    theta_0=pi  # initial angle is zero\n",
    "    v_theta_0 = 0.0  # initial velocity is zero\n",
    "    #gamma=1.67\n",
    "\n",
    "    t_max=100\n",
    "    N=100*t_max  # define N in terms of t_max in order to make cyclesteps a clean integer\n",
    "\n",
    "    # fill time array\n",
    "    time=linspace(0,t_max,N+1) # add +1 to make sure the period occurs exactly at a data point.\n",
    "\n",
    "    # call odeint\n",
    "    solution=odeint(DrivenDampedPendulum, [theta_0,v_theta_0], time, args=(beta, w_0, gamma, wd))\n",
    "    # print(solution)DrivenDampedPendulum\n",
    "\n",
    "    thetas = solution[:,0]\n",
    "    thedots = solution[:,1]\n",
    "    \n",
    "    cyclesteps = int(N/t_max)\n",
    "    \n",
    "    #plot(wrap(solution[:,0]),solution[:,1],\"c\")\n",
    "    #plot(poincare(wrap(solution[50*cyclesteps:,0]),cyclesteps),poincare(solution[50*cyclesteps:,1],cyclesteps),\".\")\n",
    "    #xlim(-pi,pi)\n",
    "    #ylim(-30,30)\n",
    "    #figure()\n",
    "    #plot(poincare(wrap(solution[:,0]),int(N/t_max)),\".\")\n",
    "    points.append(poincare(wrap(solution[-50*cyclesteps:,0]),cyclesteps))\n",
    "    #print(\"Done with {}\".format(gamma))\n",
    "print(\"DONE\")"
   ]
  },
  {
   "cell_type": "code",
   "execution_count": 147,
   "metadata": {
    "collapsed": false
   },
   "outputs": [
    {
     "data": {
      "image/png": "[encoded data removed]",
      "text/plain": [
       "<matplotlib.figure.Figure at 0x110223278>"
      ]
     },
     "metadata": {},
     "output_type": "display_data"
    }
   ],
   "source": [
    "# assemble data from points into a bifurcation plot:\n",
    "figure()\n",
    "for i,pts in enumerate(points):\n",
    "    for pt in pts:\n",
    "        plot(gammalist[i],pt,\"k.\")"
   ]
  },
  {
   "cell_type": "code",
   "execution_count": 140,
   "metadata": {
    "collapsed": false
   },
   "outputs": [
    {
     "data": {
      "text/plain": [
       "[<matplotlib.lines.Line2D at 0x113b1c6d8>]"
      ]
     },
     "execution_count": 140,
     "metadata": {},
     "output_type": "execute_result"
    },
    {
     "data": {
      "image/png": "[encoded data removed]",
      "text/plain": [
       "<matplotlib.figure.Figure at 0x113b1c748>"
      ]
     },
     "metadata": {},
     "output_type": "display_data"
    }
   ],
   "source": [
    "plot(wrap(thetas),solution[:,1],\"c.\")\n",
    "plot(poincare(wrap(solution[:,0]),int(N/t_max)),poincare(solution[:,1],int(N/t_max)),\"b.\")"
   ]
  },
  {
   "cell_type": "code",
   "execution_count": null,
   "metadata": {
    "collapsed": false
   },
   "outputs": [],
   "source": [
    "# make a figure \n",
    "fig1=figure()\n",
    "\n",
    "#First axes on that figure.  Setting up a 1-row, 2-col table of subplots\n",
    "ax1=subplot(1,2,1)\n",
    "ax1.plot(time,solution[:,0],\"k-\",)\n",
    "#ax1.plot(time,solution[:,0]/(2*pi),\"k-\",time,solution[:,1]/max(solution[:,1]))\n",
    "\n",
    "ax1.set_xlabel(\"time (drive periods)\")\n",
    "ax1.set_ylabel(\"angle [radians] and velocity [arb units]\")\n",
    "ax1.set_xlim(0,15)\n",
    "#xlim(5,6)\n",
    "#xlim(40,50)\n",
    "\n",
    "#ax1.legend([\"angle\",\"velocity\"],title=\"$\\gamma$ = {:3}\".format(gamma))\n",
    "# put gamma in the title to this subplot.  \n",
    "ax1.set_title(\"$\\gamma$ = {:3}\".format(gamma))\n",
    "\n",
    "# for tick labels: sets the \"unit\" of pi that will be used to label, eg 1/4pi or 1/2pi or even 2pi\n",
    "# pi_fraction=2.\n",
    "pi_fraction=1/2.\n",
    "# here are the calls that set the tick label formatting\n",
    "ax1.yaxis.set_major_locator(MultipleLocator(pi_fraction*pi))\n",
    "ax1.yaxis.set_major_formatter(FuncFormatter(fractions_of_pi))\n",
    "\n",
    "# second set of axes\n",
    "ax2=subplot(1,2,2)\n",
    "ax2.plot(time,solution[:,0],\"k-\",)\n",
    "\n",
    "ax2.set_xlabel(\"time (drive periods)\")\n",
    "ax2.set_ylabel(\"angle [radians] and velocity [arb units]\")\n",
    "ax2.set_xlim(40,50)\n",
    "# here's an attempt to automate the ylim for zoomed plot.  Probably will have to adjust by hand\n",
    "ymin=min(solution[int(40*pts_per_sec):,0])\n",
    "if ymin<0:\n",
    "    ylow=1.1*ymin\n",
    "    yhi=0.9*ymin\n",
    "else:\n",
    "    ylow=0.9*ymin\n",
    "    yhi=1.1*ymin\n",
    "    \n",
    "ax2.set_ylim(ylow, yhi)\n",
    "\n",
    "# here are the calls that set the tick label formatting\n",
    "pi_fraction=1/4.\n",
    "ax2.yaxis.set_major_locator(MultipleLocator(pi_fraction*pi))\n",
    "ax2.yaxis.set_major_formatter(FuncFormatter(fractions_of_pi))\n",
    "\n",
    "# set the size of the figure in inches\n",
    "fig1.set_size_inches(14,5)\n",
    "\n",
    "# This displays an inline copy of fig if you happen to have started the notebook in \"pop-up\" mode\n",
    "#display(fig1)"
   ]
  },
  {
   "cell_type": "code",
   "execution_count": 68,
   "metadata": {
    "collapsed": true
   },
   "outputs": [],
   "source": [
    "from scipy.integrate import ode"
   ]
  },
  {
   "cell_type": "code",
   "execution_count": 72,
   "metadata": {
    "collapsed": false
   },
   "outputs": [
    {
     "ename": "NameError",
     "evalue": "name 'betap' is not defined",
     "output_type": "error",
     "traceback": [
      "\u001b[0;31m---------------------------------------------------------------------------\u001b[0m",
      "\u001b[0;31mNameError\u001b[0m                                 Traceback (most recent call last)",
      "\u001b[0;32m<ipython-input-72-4a0211da8aaa>\u001b[0m in \u001b[0;36m<module>\u001b[0;34m()\u001b[0m\n\u001b[1;32m     14\u001b[0m \u001b[0mtime\u001b[0m\u001b[0;34m=\u001b[0m\u001b[0mlinspace\u001b[0m\u001b[0;34m(\u001b[0m\u001b[0;36m0\u001b[0m\u001b[0;34m,\u001b[0m\u001b[0mt_max\u001b[0m\u001b[0;34m,\u001b[0m\u001b[0mN\u001b[0m\u001b[0;34m)\u001b[0m\u001b[0;34m\u001b[0m\u001b[0m\n\u001b[1;32m     15\u001b[0m \u001b[0;34m\u001b[0m\u001b[0m\n\u001b[0;32m---> 16\u001b[0;31m \u001b[0margs\u001b[0m \u001b[0;34m=\u001b[0m \u001b[0;34m(\u001b[0m\u001b[0mbetap\u001b[0m\u001b[0;34m,\u001b[0m \u001b[0mw_0\u001b[0m\u001b[0;34m,\u001b[0m \u001b[0mgammap\u001b[0m\u001b[0;34m,\u001b[0m \u001b[0mwd\u001b[0m\u001b[0;34m)\u001b[0m\u001b[0;34m\u001b[0m\u001b[0m\n\u001b[0m\u001b[1;32m     17\u001b[0m \u001b[0;34m\u001b[0m\u001b[0m\n\u001b[1;32m     18\u001b[0m \u001b[0mr\u001b[0m \u001b[0;34m=\u001b[0m \u001b[0mode\u001b[0m\u001b[0;34m(\u001b[0m\u001b[0mDrivenDampedPendulum\u001b[0m\u001b[0;34m,\u001b[0m \u001b[0margs\u001b[0m\u001b[0;34m=\u001b[0m\u001b[0margs\u001b[0m\u001b[0;34m)\u001b[0m\u001b[0;34m\u001b[0m\u001b[0m\n",
      "\u001b[0;31mNameError\u001b[0m: name 'betap' is not defined"
     ]
    }
   ],
   "source": [
    "# Try with ODE:\n",
    "wd=2*pi  # set drive freq to 2*pi, so that time is in units of drive period T\n",
    "w_0=1.5*wd  # set natural freq to 1.5 times drive freq, so that drive is close (but lower than) resonance\n",
    "beta = w_0/4\n",
    "#theta_0=-pi/2  # initial angle is neg pi/2\n",
    "theta_0=0  # initial angle is zero\n",
    "v_theta_0 = 0.0  # initial velocity is zero\n",
    "#gamma=1.67\n",
    "\n",
    "t_max=100\n",
    "N=1000000\n",
    "\n",
    "# fill time array\n",
    "time=linspace(0,t_max,N)\n",
    "\n",
    "args = (beta, w_0, gamma, wd)\n",
    "\n",
    "r = ode(DrivenDampedPendulum, args=args)\n",
    "#r = ode(f).set_integrator('zvode', method='bdf')\n",
    "#r = ode(f).set_integrator('dopri5', method='bdf')\n",
    "\n",
    "\n",
    "r.set_initial_value([theta_0, v_theta_0], time[0])\n",
    "\n",
    "dt = 0.1\n",
    "times=[]\n",
    "ys=[]\n",
    "while r.successful() and r.t < t_max:\n",
    "    times.append(r.t)\n",
    "    ys.append(r.integrate(r.t+dt))\n"
   ]
  },
  {
   "cell_type": "code",
   "execution_count": 144,
   "metadata": {
    "collapsed": false
   },
   "outputs": [
    {
     "data": {
      "text/html": [
       "\n",
       "                <audio controls=\"controls\" autoplay=\"autoplay\">\n",
       "                    <source src=\"/Applications/Enchanting/FrontEnd/Media/Sounds/Effects/Rattle.wav\" type=\"audio/x-wav\" />\n",
       "                    Your browser does not support the audio element.\n",
       "                </audio>\n",
       "              "
      ],
      "text/plain": [
       "<IPython.lib.display.Audio object>"
      ]
     },
     "execution_count": 144,
     "metadata": {},
     "output_type": "execute_result"
    }
   ],
   "source": [
    "Audio(url=sound_file, autoplay=True)"
   ]
  },
  {
   "cell_type": "code",
   "execution_count": null,
   "metadata": {
    "collapsed": true
   },
   "outputs": [],
   "source": []
  }
 ],
 "metadata": {
  "kernelspec": {
   "display_name": "Python 3",
   "language": "python",
   "name": "python3"
  },
  "language_info": {
   "codemirror_mode": {
    "name": "ipython",
    "version": 3
   },
   "file_extension": ".py",
   "mimetype": "text/x-python",
   "name": "python",
   "nbconvert_exporter": "python",
   "pygments_lexer": "ipython3",
   "version": "3.5.1"
  }
 },
 "nbformat": 4,
 "nbformat_minor": 0
}
