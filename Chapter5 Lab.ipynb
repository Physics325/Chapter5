{
 "cells": [
  {
   "cell_type": "markdown",
   "metadata": {},
   "source": [
    "### Chapter 5 Chaos Lab 2\n",
    "\n",
    "1. Checking periodicity:   \n",
    "One way to check the periodicity of a solution is to examine the values of the solution at times separated by the expected period.  In the case of the driven pendulum, we expect the periodicity to be the period of the drive frequency.  Since we've set the drive frequency to $w=2\\pi$, the drive period is just $T=1 s$.  Devise code to pull out the values of angle separated in time by the drive frequency.  Use this code to examine the periodicity of the range of $\\gamma$'s we've explored and verify that the results are consistent with the graphs you have previously made. \n",
    "2. Wrapping the angle solution:  \n",
    "Since the angle of the pendulum is periodic, e.g. an angle of zero *looks* just like an angle of $2\\pi$, it is sometimes convenient to \"wrap\" the angle into the range $-\\pi < \\theta <+\\pi$.  Devise a way to transform the solution returned by `odeint` to restrict the angle to this range. \n",
    "3. Look at sensitivity to initial conditions:\n",
    "    1. Make a figure showing the solution for the same smallish $\\gamma$ but two very different ICs.  Your plot should show the transient and long-term solution.  Your figure should have two figures side-by-side, with a plot of angle vs time on the left and a phase space plot on the right.  Make sure your plot is titled with the value of $\\gamma$. Do the two IC's lead to the same behavior?  Answer in your notebook. \n",
    "    2. Calculate the difference between the angles of the solutions from above. Make a figure that plots the log of the difference vs time.  From the graph, determine how the difference between the two solutions depends on time.  You should determine a specific function.  Add that function to your plot.  What does this tell you?\n",
    "    3. Make a figure showing the solution for a $\\gamma$ in the period-doubling range for *nearly* the same ICs. In this case, make the initial angle differ by 0.1 radians.  Your plot should show the transient and long-term solution.  Your figure should have two figures side-by-side, with a plot of angle vs time on the left and a phase space plot on the right. Do the two IC's lead to the same behavior?  Answer in your notebook.\n",
    "\t4. Calculate the difference between the angles of the solutions from above. Make a figure that plots the log of the difference vs time.  From the graph, determine how the difference between the two solutions depends on time.  You should determine a specific function.  Add that function to your plot.  What does this tell you?\n",
    "\t5. Make a figure showing the solution for a $\\gamma$ in the chaotic range for *nearly* the same ICs. In this case, make the initial angle differ by $10^{-4}$ radians.  Your plot should show the transient and long-term solution.  Your figure should have two figures side-by-side, with a plot of angle vs time on the left and a phase space plot on the right. Do the two IC's lead to the same behavior?  Answer in your notebook.\n",
    "\t6. Calculate the difference between the angles of the solutions from above. Make a figure that plots the log of the difference vs time.  From the graph, determine how the difference between the two solutions depends on time.  You should determine a specific function.  Add that function to your plot.  What does this tell you?\n",
    "\n",
    "4. Develop code to create a bifurcation plot:  \n",
    "A bifurcation plot plots the periods of the long-term behavior of a system vs. the \"control parameter\" of the system.  In the case of the Driven Damped Pendulum, the control parameter is the drive strength $\\gamma$.  The bifurcation plot illustrates the nature of the behavior of the system, showing the period-doubling cascade and regions of chaotic behavior.  To make a bifuration plot:\n",
    "    1. Loop through gamma values.  For each, calculate long-time behavior (you'll want to wrap the theta values.)\n",
    "\t2. Examine values of theta at one-cycle intervals for about 100 times.  Look for repeating values, and store.\n",
    "\t3. Plot the values found at each gamma.\n",
    "    \n",
    "5. Poincare plots:  \n",
    "Poincare plots are sort of like pulling out the angle of the solution at periodic intervals, except for phase-space plots. To make a Poincare plot, you plot the angular velocity vs angular position at times separated by the drive period. (Again, use wrapped angle values.) Make a Poincare plot for the following values of $\\gamma$: 1.078, 1.081, 1.0826, 1.105.  (Use $\\theta_0 = -\\pi/2$).  Then try $\\gamma = 1.5$ with $\\beta = \\omega_0/8$.  Comment on what you find.\n",
    "\n",
    "6. Explore a different system.  \n",
    "Use these tools to examine a different system."
   ]
  },
  {
   "cell_type": "code",
   "execution_count": null,
   "metadata": {
    "collapsed": true
   },
   "outputs": [],
   "source": []
  }
 ],
 "metadata": {
  "kernelspec": {
   "display_name": "Python 3",
   "language": "python",
   "name": "python3"
  },
  "language_info": {
   "codemirror_mode": {
    "name": "ipython",
    "version": 3
   },
   "file_extension": ".py",
   "mimetype": "text/x-python",
   "name": "python",
   "nbconvert_exporter": "python",
   "pygments_lexer": "ipython3",
   "version": "3.5.1"
  }
 },
 "nbformat": 4,
 "nbformat_minor": 0
}
